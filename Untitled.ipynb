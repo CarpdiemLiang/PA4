{
 "cells": [
  {
   "cell_type": "markdown",
   "metadata": {},
   "source": [
    "# Model 1"
   ]
  },
  {
   "cell_type": "code",
   "execution_count": 94,
   "metadata": {},
   "outputs": [],
   "source": [
    "import numpy\n",
    "from collections import defaultdict"
   ]
  },
  {
   "cell_type": "code",
   "execution_count": 95,
   "metadata": {},
   "outputs": [],
   "source": [
    "f = open(\"corpus.en\",\"r\")\n",
    "corpus_en =[]\n",
    "for line in f.readlines():\n",
    "    words = line.strip().split()\n",
    "    words = [\"*\"] + words\n",
    "    corpus_en.append(words)\n",
    "f.close()"
   ]
  },
  {
   "cell_type": "code",
   "execution_count": 96,
   "metadata": {},
   "outputs": [],
   "source": [
    "f = open(\"corpus.es\",\"r\", encoding='utf-8')\n",
    "corpus_es = []\n",
    "for line in f.readlines():\n",
    "    words = line.strip().split()\n",
    "    corpus_es.append(words)\n",
    "f.close()"
   ]
  },
  {
   "cell_type": "code",
   "execution_count": 97,
   "metadata": {},
   "outputs": [],
   "source": [
    "t_b = {}\n",
    "for k in range(len(corpus_en)):\n",
    "    for e in corpus_en[k]:\n",
    "        if e in t_b:\n",
    "            t_b[e] = t_b[e] | set(corpus_es[k])\n",
    "        else:\n",
    "            t_b[e] = set(corpus_es[k])\n",
    "t = {}\n",
    "for e in t_b:\n",
    "    for f in t_b[e]:\n",
    "        t[(f, e)] = 1/len(t_b[e])"
   ]
  },
  {
   "cell_type": "code",
   "execution_count": 98,
   "metadata": {},
   "outputs": [],
   "source": [
    "num_iter = 5"
   ]
  },
  {
   "cell_type": "code",
   "execution_count": 99,
   "metadata": {},
   "outputs": [],
   "source": [
    "f = open(\"dev.en\", \"r\")\n",
    "dev_en = []\n",
    "for line in f.readlines():\n",
    "    words = line.strip().split()\n",
    "    words = ['*'] + words\n",
    "    dev_en.append(words)\n",
    "f.close()"
   ]
  },
  {
   "cell_type": "code",
   "execution_count": 100,
   "metadata": {},
   "outputs": [],
   "source": [
    "f = open(\"dev.es\", \"r\", encoding='utf-8')\n",
    "dev_es = []\n",
    "for line in f.readlines():\n",
    "    words = line.strip().split()\n",
    "    dev_es.append(words)\n",
    "f.close()"
   ]
  },
  {
   "cell_type": "code",
   "execution_count": 101,
   "metadata": {},
   "outputs": [],
   "source": [
    "for s in range(num_iter):\n",
    "    c_ef = defaultdict(float)\n",
    "    c_e = defaultdict(float)\n",
    "    c_jilm = defaultdict(float)\n",
    "    c_ilm = defaultdict(float)\n",
    "    for k in range(len(corpus_en)):\n",
    "        l = len(corpus_en[k])\n",
    "        m = len(corpus_es[k])\n",
    "        for i in range(m):\n",
    "            f = corpus_es[k][i]\n",
    "            denom = 0\n",
    "            for j in range(l):\n",
    "                e = corpus_en[k][j]\n",
    "                denom += t[(f, e)]\n",
    "            for j in range(l):\n",
    "                e = corpus_en[k][j]\n",
    "                delta = t[(f, e)]/denom\n",
    "                c_ef[(e, f)] += delta\n",
    "                c_e[e] += delta\n",
    "                c_jilm[(j, i, l, m)] += delta\n",
    "                c_ilm[(i, l, m)] += delta\n",
    "    for (f, e) in t:\n",
    "        t[(f, e)] = c_ef[(e, f)]/c_e[e]\n",
    "    \n",
    "    out = open(\"dev_model2_iter_{}\".format(s), 'w')\n",
    "    for k in range(len(dev_es)):\n",
    "        e_s = dev_en[k]\n",
    "        f_s = dev_es[k]\n",
    "        l = len(e_s)\n",
    "        m = len(f_s)\n",
    "        for i in range(m):\n",
    "            f = f_s[i]\n",
    "            a = 0\n",
    "            max_a = 0\n",
    "            for j in range(l):\n",
    "                e = e_s[j]\n",
    "                temp = t[(f,e)]\n",
    "                if temp>max_a:\n",
    "                    a = j\n",
    "                    max_a = temp\n",
    "            out.write('{} {} {}\\n'.format(k+1, a, i+1))\n",
    "    out.close()"
   ]
  },
  {
   "cell_type": "code",
   "execution_count": 110,
   "metadata": {},
   "outputs": [],
   "source": [
    "import pickle\n",
    "file = open('t_model1.pkl', 'wb')\n",
    "pickle.dump(t, file)\n",
    "file.close()"
   ]
  },
  {
   "cell_type": "code",
   "execution_count": 40,
   "metadata": {},
   "outputs": [],
   "source": [
    "f = open(\"dev.en\", \"r\")\n",
    "dev_en = []\n",
    "for line in f.readlines():\n",
    "    words = line.strip().split()\n",
    "    words = ['*'] + words \n",
    "    dev_en.append(words)\n",
    "f.close()"
   ]
  },
  {
   "cell_type": "code",
   "execution_count": 41,
   "metadata": {},
   "outputs": [],
   "source": [
    "f = open(\"dev.es\",\"r\", encoding='utf-8')\n",
    "output = \"\"\n",
    "num_line = 0\n",
    "for line in f.readlines():\n",
    "    words = line.strip().split()\n",
    "    for i in range(len(words)):\n",
    "        a_s = []\n",
    "        for j in range(len(dev_en[num_line])):\n",
    "            a_s.append(t[(words[i], dev_en[num_line][j])])\n",
    "        pos_en = a_s.index(max(a_s)) + 1\n",
    "        output += (str(num_line+1) + ' ' + str(pos_en-1) + ' ' + str(i+1) + '\\n')\n",
    "    num_line += 1\n",
    "f.close()\n",
    "f = open(\"dev_model1\", 'w')\n",
    "f.write(output)\n",
    "f.close()"
   ]
  },
  {
   "cell_type": "code",
   "execution_count": 42,
   "metadata": {},
   "outputs": [
    {
     "data": {
      "text/plain": [
       "['*', 'resumption', 'of', 'the', 'session']"
      ]
     },
     "execution_count": 42,
     "metadata": {},
     "output_type": "execute_result"
    }
   ],
   "source": [
    "corpus_en[0]"
   ]
  },
  {
   "cell_type": "code",
   "execution_count": 102,
   "metadata": {},
   "outputs": [],
   "source": [
    "import matplotlib.pyplot as plt"
   ]
  },
  {
   "cell_type": "code",
   "execution_count": 104,
   "metadata": {},
   "outputs": [],
   "source": [
    "F1s = [0.214, 0.38, 0.408, 0.416, 0.420]\n",
    "x = [i for i in range(1,6)]"
   ]
  },
  {
   "cell_type": "code",
   "execution_count": 105,
   "metadata": {},
   "outputs": [
    {
     "data": {
      "text/plain": [
       "[1, 2, 3, 4, 5]"
      ]
     },
     "execution_count": 105,
     "metadata": {},
     "output_type": "execute_result"
    }
   ],
   "source": [
    "x"
   ]
  },
  {
   "cell_type": "code",
   "execution_count": 107,
   "metadata": {},
   "outputs": [
    {
     "data": {
      "text/plain": [
       "[<matplotlib.lines.Line2D at 0x23776daab70>]"
      ]
     },
     "execution_count": 107,
     "metadata": {},
     "output_type": "execute_result"
    },
    {
     "data": {
      "image/png": "[encoded data removed]",
      "text/plain": [
       "<Figure size 432x288 with 1 Axes>"
      ]
     },
     "metadata": {
      "needs_background": "light"
     },
     "output_type": "display_data"
    }
   ],
   "source": [
    "plt.plot(x,F1s,label='F1-Score')"
   ]
  },
  {
   "cell_type": "markdown",
   "metadata": {},
   "source": [
    "# Model2"
   ]
  },
  {
   "cell_type": "code",
   "execution_count": 115,
   "metadata": {},
   "outputs": [],
   "source": [
    "q = {}\n",
    "for k in range(len(corpus_en)):\n",
    "    l = len(corpus_en[k])\n",
    "    m = len(corpus_es[k])\n",
    "    q[(l,m)] = 1/(l+1) "
   ]
  },
  {
   "cell_type": "code",
   "execution_count": 116,
   "metadata": {},
   "outputs": [],
   "source": [
    "q_jilm = {}\n",
    "for (l,m) in q:\n",
    "    for j in range(l):\n",
    "        for i in range(m):\n",
    "            q_jilm[(j,i,l,m)] = q[(l,m)]"
   ]
  },
  {
   "cell_type": "code",
   "execution_count": 117,
   "metadata": {},
   "outputs": [],
   "source": [
    "import pickle\n",
    "file = open('t_model1.pkl', 'rb')\n",
    "t = pickle.load(file)"
   ]
  },
  {
   "cell_type": "code",
   "execution_count": 118,
   "metadata": {},
   "outputs": [],
   "source": [
    "for s in range(num_iter):\n",
    "    c_ef = defaultdict(float)\n",
    "    c_e = defaultdict(float)\n",
    "    c_jilm = defaultdict(float)\n",
    "    c_ilm = defaultdict(float)\n",
    "    for k in range(len(corpus_en)):\n",
    "        l = len(corpus_en[k])\n",
    "        m = len(corpus_es[k])\n",
    "        for i in range(m):\n",
    "            f = corpus_es[k][i]\n",
    "            denom = 0.0\n",
    "            for j in range(l):\n",
    "                e = corpus_en[k][j]\n",
    "                denom = denom + t[(f, e)] * q_jilm[(j, i, l, m)]\n",
    "            for j in range(l):\n",
    "                e = corpus_en[k][j]\n",
    "                delta = t[(f, e)] * q_jilm[(j, i, l, m)] / denom\n",
    "                c_ef[(e, f)] = c_ef[(e, f)] + delta\n",
    "                c_e[e] = c_e[e] + delta\n",
    "                c_jilm[(j, i, l, m)] = c_jilm[(j, i, l, m)] + delta\n",
    "                c_ilm[(i, l, m)] = c_ilm[(i, l, m)] + delta\n",
    "    t_temp={}\n",
    "    for (f, e) in t:\n",
    "        t_temp[(f, e)] = c_ef[(e, f)]/c_e[e]\n",
    "    t = t_temp\n",
    "    \n",
    "    q_temp={}\n",
    "    for (j, i, l, m) in q_jilm:\n",
    "        q_temp[(j, i, l, m)] = c_jilm[(j, i, l, m)]/c_ilm[(i, l, m)]\n",
    "    q_jilm = q_temp\n",
    "    \n",
    "    out = open(\"dev_model2_iter_{}\".format(s), 'w')\n",
    "    for k in range(len(dev_es)):\n",
    "        e_s = dev_en[k]\n",
    "        f_s = dev_es[k]\n",
    "        l = len(e_s)\n",
    "        m = len(f_s)\n",
    "        for i in range(m):\n",
    "            f = f_s[i]\n",
    "            a = 0\n",
    "            max_a = 0\n",
    "            for j in range(l):\n",
    "                e = e_s[j]\n",
    "                temp = t[(f,e)]*q_jilm[(j,i,l,m)]\n",
    "                if temp>max_a:\n",
    "                    a = j\n",
    "                    max_a = temp\n",
    "            out.write('{} {} {}\\n'.format(k+1, a, i+1))\n",
    "    out.close()"
   ]
  },
  {
   "cell_type": "code",
   "execution_count": 47,
   "metadata": {},
   "outputs": [],
   "source": [
    "f = open(\"dev.en\", \"r\")\n",
    "dev_en = []\n",
    "for line in f.readlines():\n",
    "    words = line.strip().split()\n",
    "    words = ['*'] + words\n",
    "    dev_en.append(words)\n",
    "f.close()"
   ]
  },
  {
   "cell_type": "code",
   "execution_count": 48,
   "metadata": {},
   "outputs": [],
   "source": [
    "f = open(\"dev.es\", \"r\", encoding='utf-8')\n",
    "dev_es = []\n",
    "for line in f.readlines():\n",
    "    words = line.strip().split()\n",
    "    dev_es.append(words)\n",
    "f.close()"
   ]
  },
  {
   "cell_type": "code",
   "execution_count": 114,
   "metadata": {},
   "outputs": [],
   "source": [
    "out = open(\"dev_model2\", 'w')\n",
    "for k in range(len(dev_es)):\n",
    "    e_s = dev_en[k]\n",
    "    f_s = dev_es[k]\n",
    "    l = len(e_s)\n",
    "    m = len(f_s)\n",
    "    for i in range(m):\n",
    "        f = f_s[i]\n",
    "        a = 0\n",
    "        max_a = 0\n",
    "        for j in range(l):\n",
    "            e = e_s[j]\n",
    "            temp = t[(f,e)]*q_jilm[(j,i,l,m)]\n",
    "            if temp>max_a:\n",
    "                a = j\n",
    "                max_a = temp\n",
    "        out.write('{} {} {}\\n'.format(k+1, a, i+1))\n",
    "out.close()"
   ]
  },
  {
   "cell_type": "code",
   "execution_count": 201,
   "metadata": {},
   "outputs": [],
   "source": [
    "file = open('t_model2.pkl', 'wb')\n",
    "pickle.dump(t, file)\n",
    "file.close()"
   ]
  },
  {
   "cell_type": "code",
   "execution_count": 202,
   "metadata": {},
   "outputs": [],
   "source": [
    "file = open('q_model2.pkl', 'wb')\n",
    "pickle.dump(q_jilm, file)\n",
    "file.close()"
   ]
  },
  {
   "cell_type": "code",
   "execution_count": 119,
   "metadata": {},
   "outputs": [],
   "source": [
    "F1s = [0.439, 0.442, 0.446, 0.446, 0.449]\n",
    "x = [i for i in range(1,6)]"
   ]
  },
  {
   "cell_type": "code",
   "execution_count": 120,
   "metadata": {},
   "outputs": [
    {
     "data": {
      "text/plain": [
       "[<matplotlib.lines.Line2D at 0x2377717a588>]"
      ]
     },
     "execution_count": 120,
     "metadata": {},
     "output_type": "execute_result"
    },
    {
     "data": {
      "image/png": "[encoded data removed]",
      "text/plain": [
       "<Figure size 432x288 with 1 Axes>"
      ]
     },
     "metadata": {
      "needs_background": "light"
     },
     "output_type": "display_data"
    }
   ],
   "source": [
    "plt.plot(x,F1s,label='F1-Score')"
   ]
  },
  {
   "cell_type": "code",
   "execution_count": 113,
   "metadata": {},
   "outputs": [
    {
     "data": {
      "text/plain": [
       "0.17437757253074046"
      ]
     },
     "execution_count": 113,
     "metadata": {},
     "output_type": "execute_result"
    }
   ],
   "source": [
    "t[('feliz','happy')]"
   ]
  },
  {
   "cell_type": "markdown",
   "metadata": {},
   "source": [
    "# Model3"
   ]
  },
  {
   "cell_type": "code",
   "execution_count": 50,
   "metadata": {},
   "outputs": [],
   "source": [
    "f = open(\"corpus.en\",\"r\")\n",
    "corpus_en =[]\n",
    "for line in f.readlines():\n",
    "    words = line.strip().split()\n",
    "    words = [\"*\"] + words\n",
    "    corpus_en.append(words)\n",
    "f.close()"
   ]
  },
  {
   "cell_type": "code",
   "execution_count": 51,
   "metadata": {},
   "outputs": [],
   "source": [
    "f = open(\"corpus.es\",\"r\", encoding='utf-8')\n",
    "corpus_es = []\n",
    "for line in f.readlines():\n",
    "    words = line.strip().split()\n",
    "    corpus_es.append(words)\n",
    "f.close()"
   ]
  },
  {
   "cell_type": "code",
   "execution_count": 52,
   "metadata": {},
   "outputs": [],
   "source": [
    "t_b = {}\n",
    "for k in range(len(corpus_en)):\n",
    "    for e in corpus_en[k]:\n",
    "        if e in t_b:\n",
    "            t_b[e] = t_b[e] | set(corpus_es[k])\n",
    "        else:\n",
    "            t_b[e] = set(corpus_es[k])\n",
    "t = {}\n",
    "for e in t_b:\n",
    "    for f in t_b[e]:\n",
    "        t[(f, e)] = 1/len(t_b[e])"
   ]
  },
  {
   "cell_type": "code",
   "execution_count": 53,
   "metadata": {},
   "outputs": [],
   "source": [
    "num_iter = 5"
   ]
  },
  {
   "cell_type": "code",
   "execution_count": 54,
   "metadata": {},
   "outputs": [],
   "source": [
    "for s in range(num_iter):\n",
    "    c_ef = defaultdict(float)\n",
    "    c_e = defaultdict(float)\n",
    "    c_jilm = defaultdict(float)\n",
    "    c_ilm = defaultdict(float)\n",
    "    for k in range(len(corpus_en)):\n",
    "        l = len(corpus_en[k])\n",
    "        m = len(corpus_es[k])\n",
    "        for i in range(m):\n",
    "            f = corpus_es[k][i]\n",
    "            denom = 0\n",
    "            for j in range(l):\n",
    "                e = corpus_en[k][j]\n",
    "                denom += t[(f, e)]\n",
    "            for j in range(l):\n",
    "                e = corpus_en[k][j]\n",
    "                delta = t[(f, e)]/denom\n",
    "                c_ef[(e, f)] += delta\n",
    "                c_e[e] += delta\n",
    "                c_jilm[(j, i, l, m)] += delta\n",
    "                c_ilm[(i, l, m)] += delta\n",
    "    for (f, e) in t:\n",
    "        t[(f, e)] = c_ef[(e, f)]/c_e[e]"
   ]
  },
  {
   "cell_type": "code",
   "execution_count": 55,
   "metadata": {},
   "outputs": [],
   "source": [
    "import pickle\n",
    "file = open('t_model3_1.pkl', 'wb')\n",
    "pickle.dump(t, file)\n",
    "file.close()"
   ]
  },
  {
   "cell_type": "code",
   "execution_count": 56,
   "metadata": {},
   "outputs": [],
   "source": [
    "q = {}\n",
    "for k in range(len(corpus_en)):\n",
    "    l = len(corpus_en[k])\n",
    "    m = len(corpus_es[k])\n",
    "    q[(l,m)] = 1/(l+1) "
   ]
  },
  {
   "cell_type": "code",
   "execution_count": 57,
   "metadata": {},
   "outputs": [],
   "source": [
    "q_jilm = {}\n",
    "for (l,m) in q:\n",
    "    for j in range(l):\n",
    "        for i in range(m):\n",
    "            q_jilm[(j,i,l,m)] = q[(l,m)]"
   ]
  },
  {
   "cell_type": "code",
   "execution_count": 58,
   "metadata": {},
   "outputs": [
    {
     "data": {
      "text/plain": [
       "\"import pickle\\nfile = open('t_model3_1.pkl', 'rb')\\nt = pickle.load(file)\""
      ]
     },
     "execution_count": 58,
     "metadata": {},
     "output_type": "execute_result"
    }
   ],
   "source": [
    "'''import pickle\n",
    "file = open('t_model3_1.pkl', 'rb')\n",
    "t = pickle.load(file)'''"
   ]
  },
  {
   "cell_type": "code",
   "execution_count": 59,
   "metadata": {},
   "outputs": [],
   "source": [
    "for s in range(num_iter):\n",
    "    c_ef = defaultdict(float)\n",
    "    c_e = defaultdict(float)\n",
    "    c_jilm = defaultdict(float)\n",
    "    c_ilm = defaultdict(float)\n",
    "    for k in range(len(corpus_en)):\n",
    "        l = len(corpus_en[k])\n",
    "        m = len(corpus_es[k])\n",
    "        for i in range(m):\n",
    "            f = corpus_es[k][i]\n",
    "            denom = 0.0\n",
    "            for j in range(l):\n",
    "                e = corpus_en[k][j]\n",
    "                denom = denom + t[(f, e)] * q_jilm[(j, i, l, m)]\n",
    "            for j in range(l):\n",
    "                e = corpus_en[k][j]\n",
    "                delta = t[(f, e)] * q_jilm[(j, i, l, m)] / denom\n",
    "                c_ef[(e, f)] = c_ef[(e, f)] + delta\n",
    "                c_e[e] = c_e[e] + delta\n",
    "                c_jilm[(j, i, l, m)] = c_jilm[(j, i, l, m)] + delta\n",
    "                c_ilm[(i, l, m)] = c_ilm[(i, l, m)] + delta\n",
    "    t_temp={}\n",
    "    for (f, e) in t:\n",
    "        t_temp[(f, e)] = c_ef[(e, f)]/c_e[e]\n",
    "    t = t_temp\n",
    "    \n",
    "    q_temp={}\n",
    "    for (j, i, l, m) in q_jilm:\n",
    "        q_temp[(j, i, l, m)] = c_jilm[(j, i, l, m)]/c_ilm[(i, l, m)]\n",
    "    q_jilm = q_temp"
   ]
  },
  {
   "cell_type": "code",
   "execution_count": 20,
   "metadata": {},
   "outputs": [],
   "source": [
    "f = open(\"dev.en\", \"r\",encoding='utf-8')\n",
    "dev_en = []\n",
    "for line in f.readlines():\n",
    "    words = line.strip().split()\n",
    "    words = ['*'] + words\n",
    "    dev_en.append(words)\n",
    "f.close()"
   ]
  },
  {
   "cell_type": "code",
   "execution_count": 11,
   "metadata": {},
   "outputs": [],
   "source": [
    "f = open(\"dev.es\", \"r\", encoding='utf-8')\n",
    "dev_es = []\n",
    "for line in f.readlines():\n",
    "    words = line.strip().split()\n",
    "    dev_es.append(words)\n",
    "f.close()"
   ]
  },
  {
   "cell_type": "code",
   "execution_count": 62,
   "metadata": {},
   "outputs": [],
   "source": [
    "out = open(\"dev_model3\", 'w')\n",
    "for k in range(len(dev_es)):\n",
    "    e_s = dev_en[k]\n",
    "    f_s = dev_es[k]\n",
    "    l = len(e_s)\n",
    "    m = len(f_s)\n",
    "    for i in range(m):\n",
    "        f = f_s[i]\n",
    "        a = 0\n",
    "        max_a = 0\n",
    "        for j in range(l):\n",
    "            e = e_s[j]\n",
    "            temp = t[(f,e)]*q_jilm[(j,i,l,m)]\n",
    "            if temp>max_a:\n",
    "                a = j\n",
    "                max_a = temp\n",
    "        out.write('{} {} {}\\n'.format(k+1, i+1, a))\n",
    "out.close()"
   ]
  },
  {
   "cell_type": "code",
   "execution_count": 63,
   "metadata": {},
   "outputs": [],
   "source": [
    "file = open('t_model3_2.pkl', 'wb')\n",
    "pickle.dump(t, file)\n",
    "file.close()"
   ]
  },
  {
   "cell_type": "code",
   "execution_count": 64,
   "metadata": {},
   "outputs": [],
   "source": [
    "file = open('q_model3.pkl', 'wb')\n",
    "pickle.dump(q_jilm, file)\n",
    "file.close()"
   ]
  },
  {
   "cell_type": "code",
   "execution_count": 141,
   "metadata": {},
   "outputs": [],
   "source": [
    "file = open('dev_model2', 'r')\n",
    "m2_eva = []\n",
    "for line in file.readlines():\n",
    "    m2_eva.append(line.strip().split())\n",
    "file.close()"
   ]
  },
  {
   "cell_type": "code",
   "execution_count": 142,
   "metadata": {},
   "outputs": [],
   "source": [
    "file = open('dev_reverse', 'r')\n",
    "m3_eva = []\n",
    "for line in file.readlines():\n",
    "    m3_eva.append(line.strip().split())\n",
    "file.close()"
   ]
  },
  {
   "cell_type": "code",
   "execution_count": 225,
   "metadata": {},
   "outputs": [],
   "source": [
    "itsct = {}"
   ]
  },
  {
   "cell_type": "code",
   "execution_count": 226,
   "metadata": {},
   "outputs": [],
   "source": [
    "for a in m2_eva:\n",
    "    if a in m3_eva:\n",
    "        itsct[(a[0], a[2])] = int(a[1])"
   ]
  },
  {
   "cell_type": "code",
   "execution_count": 227,
   "metadata": {},
   "outputs": [],
   "source": [
    "union = defaultdict(set)"
   ]
  },
  {
   "cell_type": "code",
   "execution_count": 228,
   "metadata": {},
   "outputs": [],
   "source": [
    "for a in m2_eva:\n",
    "    union[(a[0], a[2])].add(int(a[1]))\n",
    "for b in m3_eva:\n",
    "    union[(b[0], b[2])].add(int(a[1]))"
   ]
  },
  {
   "cell_type": "code",
   "execution_count": 229,
   "metadata": {},
   "outputs": [],
   "source": [
    "out = \"\"\n",
    "for i in range(len(dev_en)):\n",
    "    for j in range(len(dev_es[i])):\n",
    "        key = (str(i+1), str(j+1))\n",
    "        if key in itsct.keys():\n",
    "            out += (str(i+1) + ' ' + str(itsct[key]) + ' ' + str(j+1) + '\\n')\n",
    "        else:\n",
    "            a = 1\n",
    "            min_dis = 3000\n",
    "            '''if j==0:\n",
    "                l = 0\n",
    "                for m in range(len(dev_es[i])):\n",
    "                    key_t = (str(i+1), str(m+1))\n",
    "                    if key_t in itsct.keys():\n",
    "                        l = m\n",
    "                        break\n",
    "                if l==0:\n",
    "                    neigh = len(dev_es[i])//2\n",
    "                else:\n",
    "                    neigh = itsct[(str(i+1), str(l+1))] \n",
    "            else:\n",
    "                neigh = itsct[(str(i+1), str(j))]'''\n",
    "            '''try:\n",
    "                neigh = itsct[(str(i+1), str(j))]\n",
    "            except:'''\n",
    "            neigh = j\n",
    "            for k in union[key]:\n",
    "                dis = abs(k-neigh)\n",
    "                if dis < min_dis:\n",
    "                    a = k\n",
    "                    min_dis = dis\n",
    "            if abs(a-neigh)<=3:\n",
    "                itsct[key] = a\n",
    "                out += (str(i+1) + ' ' + str(a) + ' ' + str(j+1) + '\\n')"
   ]
  },
  {
   "cell_type": "code",
   "execution_count": 230,
   "metadata": {},
   "outputs": [],
   "source": [
    "f = open(\"dev_model4\", 'w')\n",
    "f.write(out)\n",
    "f.close()"
   ]
  },
  {
   "cell_type": "code",
   "execution_count": 231,
   "metadata": {},
   "outputs": [
    {
     "data": {
      "text/plain": [
       "3840"
      ]
     },
     "execution_count": 231,
     "metadata": {},
     "output_type": "execute_result"
    }
   ],
   "source": [
    "len(itsct.keys())"
   ]
  },
  {
   "cell_type": "code",
   "execution_count": 60,
   "metadata": {},
   "outputs": [],
   "source": [
    "file = open('dev_model2', 'r')\n",
    "m2 = []\n",
    "for line in file.readlines():\n",
    "    m2.append(line.strip().split())\n",
    "file.close()"
   ]
  },
  {
   "cell_type": "code",
   "execution_count": 61,
   "metadata": {},
   "outputs": [],
   "source": [
    "file = open('dev.key', 'r')\n",
    "gold = []\n",
    "for line in file.readlines():\n",
    "    gold.append(line.strip().split())\n",
    "file.close()"
   ]
  },
  {
   "cell_type": "code",
   "execution_count": 62,
   "metadata": {},
   "outputs": [],
   "source": [
    "m22 = defaultdict(list)"
   ]
  },
  {
   "cell_type": "code",
   "execution_count": 63,
   "metadata": {},
   "outputs": [],
   "source": [
    "for a in m2:\n",
    "    m22[a[0]].append([a[1], a[2]])"
   ]
  },
  {
   "cell_type": "code",
   "execution_count": 64,
   "metadata": {},
   "outputs": [],
   "source": [
    "goldd = defaultdict(list)\n",
    "for a in gold:\n",
    "    goldd[a[0]].append([a[1], a[2]])"
   ]
  },
  {
   "cell_type": "code",
   "execution_count": 66,
   "metadata": {},
   "outputs": [
    {
     "name": "stdout",
     "output_type": "stream",
     "text": [
      "0.19047619047619047\n"
     ]
    }
   ],
   "source": [
    "min_key = None\n",
    "min_acc = 3\n",
    "for key in m22.keys():\n",
    "    if key == '51':\n",
    "        corr = 0\n",
    "        for l in m22[key]:\n",
    "            if l in goldd[key]:\n",
    "                corr+=1\n",
    "        print(corr/len(dev_en[int(key)-1]))\n",
    "    cor = 0\n",
    "    for l in m22[key]:\n",
    "        if l in goldd[key]:\n",
    "            cor+=1\n",
    "    acc = cor/len(dev_en[int(key)-1])\n",
    "    if acc<min_acc:\n",
    "        min_key = key\n",
    "        min_acc = acc"
   ]
  },
  {
   "cell_type": "code",
   "execution_count": 58,
   "metadata": {},
   "outputs": [
    {
     "data": {
      "text/plain": [
       "'51'"
      ]
     },
     "execution_count": 58,
     "metadata": {},
     "output_type": "execute_result"
    }
   ],
   "source": [
    "min_key"
   ]
  },
  {
   "cell_type": "code",
   "execution_count": 59,
   "metadata": {},
   "outputs": [
    {
     "data": {
      "text/plain": [
       "0.047619047619047616"
      ]
     },
     "execution_count": 59,
     "metadata": {},
     "output_type": "execute_result"
    }
   ],
   "source": [
    "min_acc"
   ]
  },
  {
   "cell_type": "code",
   "execution_count": null,
   "metadata": {},
   "outputs": [],
   "source": []
  }
 ],
 "metadata": {
  "kernelspec": {
   "display_name": "Python 3",
   "language": "python",
   "name": "python3"
  },
  "language_info": {
   "codemirror_mode": {
    "name": "ipython",
    "version": 3
   },
   "file_extension": ".py",
   "mimetype": "text/x-python",
   "name": "python",
   "nbconvert_exporter": "python",
   "pygments_lexer": "ipython3",
   "version": "3.7.1rc1"
  }
 },
 "nbformat": 4,
 "nbformat_minor": 2
}
